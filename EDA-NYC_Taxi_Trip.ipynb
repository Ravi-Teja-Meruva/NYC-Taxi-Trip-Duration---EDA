{
 "cells": [
  {
   "cell_type": "code",
   "execution_count": 1,
   "metadata": {},
   "outputs": [],
   "source": [
    "# import libraries\n",
    "\n",
    "import pandas as pd\n",
    "import numpy as np\n",
    "import matplotlib.pyplot as plt\n",
    "import seaborn as sb"
   ]
  },
  {
   "cell_type": "code",
   "execution_count": 2,
   "metadata": {},
   "outputs": [],
   "source": [
    "# Read the files \n",
    "df = pd.read_csv('nyc_taxi_trip_duration.csv')"
   ]
  },
  {
   "cell_type": "code",
   "execution_count": 3,
   "metadata": {},
   "outputs": [
    {
     "data": {
      "text/plain": [
       "(729322, 11)"
      ]
     },
     "execution_count": 3,
     "metadata": {},
     "output_type": "execute_result"
    }
   ],
   "source": [
    "# shape of the data\n",
    "df.shape"
   ]
  },
  {
   "cell_type": "code",
   "execution_count": 4,
   "metadata": {},
   "outputs": [
    {
     "data": {
      "text/html": [
       "<div>\n",
       "<style scoped>\n",
       "    .dataframe tbody tr th:only-of-type {\n",
       "        vertical-align: middle;\n",
       "    }\n",
       "\n",
       "    .dataframe tbody tr th {\n",
       "        vertical-align: top;\n",
       "    }\n",
       "\n",
       "    .dataframe thead th {\n",
       "        text-align: right;\n",
       "    }\n",
       "</style>\n",
       "<table border=\"1\" class=\"dataframe\">\n",
       "  <thead>\n",
       "    <tr style=\"text-align: right;\">\n",
       "      <th></th>\n",
       "      <th>id</th>\n",
       "      <th>vendor_id</th>\n",
       "      <th>pickup_datetime</th>\n",
       "      <th>dropoff_datetime</th>\n",
       "      <th>passenger_count</th>\n",
       "      <th>pickup_longitude</th>\n",
       "      <th>pickup_latitude</th>\n",
       "      <th>dropoff_longitude</th>\n",
       "      <th>dropoff_latitude</th>\n",
       "      <th>store_and_fwd_flag</th>\n",
       "      <th>trip_duration</th>\n",
       "    </tr>\n",
       "  </thead>\n",
       "  <tbody>\n",
       "    <tr>\n",
       "      <th>0</th>\n",
       "      <td>id1080784</td>\n",
       "      <td>2</td>\n",
       "      <td>2016-02-29 16:40:21</td>\n",
       "      <td>2016-02-29 16:47:01</td>\n",
       "      <td>1</td>\n",
       "      <td>-73.953918</td>\n",
       "      <td>40.778873</td>\n",
       "      <td>-73.963875</td>\n",
       "      <td>40.771164</td>\n",
       "      <td>N</td>\n",
       "      <td>400</td>\n",
       "    </tr>\n",
       "    <tr>\n",
       "      <th>1</th>\n",
       "      <td>id0889885</td>\n",
       "      <td>1</td>\n",
       "      <td>2016-03-11 23:35:37</td>\n",
       "      <td>2016-03-11 23:53:57</td>\n",
       "      <td>2</td>\n",
       "      <td>-73.988312</td>\n",
       "      <td>40.731743</td>\n",
       "      <td>-73.994751</td>\n",
       "      <td>40.694931</td>\n",
       "      <td>N</td>\n",
       "      <td>1100</td>\n",
       "    </tr>\n",
       "    <tr>\n",
       "      <th>2</th>\n",
       "      <td>id0857912</td>\n",
       "      <td>2</td>\n",
       "      <td>2016-02-21 17:59:33</td>\n",
       "      <td>2016-02-21 18:26:48</td>\n",
       "      <td>2</td>\n",
       "      <td>-73.997314</td>\n",
       "      <td>40.721458</td>\n",
       "      <td>-73.948029</td>\n",
       "      <td>40.774918</td>\n",
       "      <td>N</td>\n",
       "      <td>1635</td>\n",
       "    </tr>\n",
       "    <tr>\n",
       "      <th>3</th>\n",
       "      <td>id3744273</td>\n",
       "      <td>2</td>\n",
       "      <td>2016-01-05 09:44:31</td>\n",
       "      <td>2016-01-05 10:03:32</td>\n",
       "      <td>6</td>\n",
       "      <td>-73.961670</td>\n",
       "      <td>40.759720</td>\n",
       "      <td>-73.956779</td>\n",
       "      <td>40.780628</td>\n",
       "      <td>N</td>\n",
       "      <td>1141</td>\n",
       "    </tr>\n",
       "    <tr>\n",
       "      <th>4</th>\n",
       "      <td>id0232939</td>\n",
       "      <td>1</td>\n",
       "      <td>2016-02-17 06:42:23</td>\n",
       "      <td>2016-02-17 06:56:31</td>\n",
       "      <td>1</td>\n",
       "      <td>-74.017120</td>\n",
       "      <td>40.708469</td>\n",
       "      <td>-73.988182</td>\n",
       "      <td>40.740631</td>\n",
       "      <td>N</td>\n",
       "      <td>848</td>\n",
       "    </tr>\n",
       "  </tbody>\n",
       "</table>\n",
       "</div>"
      ],
      "text/plain": [
       "          id  vendor_id      pickup_datetime     dropoff_datetime  \\\n",
       "0  id1080784          2  2016-02-29 16:40:21  2016-02-29 16:47:01   \n",
       "1  id0889885          1  2016-03-11 23:35:37  2016-03-11 23:53:57   \n",
       "2  id0857912          2  2016-02-21 17:59:33  2016-02-21 18:26:48   \n",
       "3  id3744273          2  2016-01-05 09:44:31  2016-01-05 10:03:32   \n",
       "4  id0232939          1  2016-02-17 06:42:23  2016-02-17 06:56:31   \n",
       "\n",
       "   passenger_count  pickup_longitude  pickup_latitude  dropoff_longitude  \\\n",
       "0                1        -73.953918        40.778873         -73.963875   \n",
       "1                2        -73.988312        40.731743         -73.994751   \n",
       "2                2        -73.997314        40.721458         -73.948029   \n",
       "3                6        -73.961670        40.759720         -73.956779   \n",
       "4                1        -74.017120        40.708469         -73.988182   \n",
       "\n",
       "   dropoff_latitude store_and_fwd_flag  trip_duration  \n",
       "0         40.771164                  N            400  \n",
       "1         40.694931                  N           1100  \n",
       "2         40.774918                  N           1635  \n",
       "3         40.780628                  N           1141  \n",
       "4         40.740631                  N            848  "
      ]
     },
     "execution_count": 4,
     "metadata": {},
     "output_type": "execute_result"
    }
   ],
   "source": [
    "# first 5 instances \n",
    "df.head()"
   ]
  },
  {
   "cell_type": "code",
   "execution_count": 5,
   "metadata": {},
   "outputs": [
    {
     "data": {
      "text/plain": [
       "Index(['id', 'vendor_id', 'pickup_datetime', 'dropoff_datetime',\n",
       "       'passenger_count', 'pickup_longitude', 'pickup_latitude',\n",
       "       'dropoff_longitude', 'dropoff_latitude', 'store_and_fwd_flag',\n",
       "       'trip_duration'],\n",
       "      dtype='object')"
      ]
     },
     "execution_count": 5,
     "metadata": {},
     "output_type": "execute_result"
    }
   ],
   "source": [
    "# columns\n",
    "df.columns"
   ]
  },
  {
   "cell_type": "code",
   "execution_count": 6,
   "metadata": {},
   "outputs": [
    {
     "data": {
      "text/plain": [
       "id                     object\n",
       "vendor_id               int64\n",
       "pickup_datetime        object\n",
       "dropoff_datetime       object\n",
       "passenger_count         int64\n",
       "pickup_longitude      float64\n",
       "pickup_latitude       float64\n",
       "dropoff_longitude     float64\n",
       "dropoff_latitude      float64\n",
       "store_and_fwd_flag     object\n",
       "trip_duration           int64\n",
       "dtype: object"
      ]
     },
     "execution_count": 6,
     "metadata": {},
     "output_type": "execute_result"
    }
   ],
   "source": [
    "#datatypes\n",
    "df.dtypes"
   ]
  },
  {
   "cell_type": "markdown",
   "metadata": {},
   "source": [
    "### Summary\n",
    "- store_fwd_flag is shown as object but it should be categorical.\n",
    "- pickup_datetime and dropoff_datetime are of datatyppe which should be converted to datetime for further analysis.\n",
    "- vendor_id is of datatype int64 but it is a nominal data.\n"
   ]
  },
  {
   "cell_type": "code",
   "execution_count": 7,
   "metadata": {},
   "outputs": [
    {
     "data": {
      "text/plain": [
       "id                      object\n",
       "vendor_id             category\n",
       "pickup_datetime         object\n",
       "dropoff_datetime        object\n",
       "passenger_count          int64\n",
       "pickup_longitude       float64\n",
       "pickup_latitude        float64\n",
       "dropoff_longitude      float64\n",
       "dropoff_latitude       float64\n",
       "store_and_fwd_flag    category\n",
       "trip_duration            int64\n",
       "dtype: object"
      ]
     },
     "execution_count": 7,
     "metadata": {},
     "output_type": "execute_result"
    }
   ],
   "source": [
    "# Typecasting to category\n",
    "df['vendor_id'] = df['vendor_id'].astype('category')\n",
    "df['store_and_fwd_flag'] = df['store_and_fwd_flag'].astype('category')                                         \n",
    "df.dtypes"
   ]
  },
  {
   "cell_type": "code",
   "execution_count": 8,
   "metadata": {},
   "outputs": [],
   "source": [
    "df['pickup_datetime'] = pd.to_datetime(df['pickup_datetime'])\n",
    "df['dropoff_datetime'] = pd.to_datetime(df['dropoff_datetime'])"
   ]
  },
  {
   "cell_type": "code",
   "execution_count": 9,
   "metadata": {},
   "outputs": [
    {
     "data": {
      "text/plain": [
       "id                            object\n",
       "vendor_id                   category\n",
       "pickup_datetime       datetime64[ns]\n",
       "dropoff_datetime      datetime64[ns]\n",
       "passenger_count                int64\n",
       "pickup_longitude             float64\n",
       "pickup_latitude              float64\n",
       "dropoff_longitude            float64\n",
       "dropoff_latitude             float64\n",
       "store_and_fwd_flag          category\n",
       "trip_duration                  int64\n",
       "dtype: object"
      ]
     },
     "execution_count": 9,
     "metadata": {},
     "output_type": "execute_result"
    }
   ],
   "source": [
    "df.dtypes"
   ]
  },
  {
   "cell_type": "code",
   "execution_count": 10,
   "metadata": {},
   "outputs": [
    {
     "data": {
      "text/plain": [
       "<matplotlib.axes._subplots.AxesSubplot at 0x18ee60209d0>"
      ]
     },
     "execution_count": 10,
     "metadata": {},
     "output_type": "execute_result"
    },
    {
     "data": {
      "image/png": "[encoded data removed]",
      "text/plain": [
       "<Figure size 432x288 with 2 Axes>"
      ]
     },
     "metadata": {
      "needs_background": "light"
     },
     "output_type": "display_data"
    }
   ],
   "source": [
    "# checking missing values\n",
    "sb.heatmap(df.isnull())"
   ]
  },
  {
   "cell_type": "markdown",
   "metadata": {},
   "source": [
    "# Summary\n",
    "- From the heatmap we can clearly see that there are no missing values."
   ]
  },
  {
   "cell_type": "code",
   "execution_count": 11,
   "metadata": {},
   "outputs": [],
   "source": [
    "# Adding a new column distance \n",
    "\n",
    "from math import sin, cos, sqrt, atan2, radians\n",
    "distance_converted = []\n",
    "def distance_converter(df):\n",
    "    # number of rows\n",
    "    n = df.shape[0]\n",
    "    # approximate radius of earth in km\n",
    "    R = 6373.0\n",
    "    for i in range(n):\n",
    "        lat1 = radians(df['pickup_latitude'][i])\n",
    "        lat2 = radians(df['dropoff_latitude'][i])\n",
    "        long1 = radians(df['pickup_longitude'][i])\n",
    "        long2 = radians(df['dropoff_longitude'][i])\n",
    "        # calculating the distance\n",
    "        dlon = long2 - long1\n",
    "        dlat = lat2 - lat1\n",
    "        a = sin(dlat / 2) ** 2 + cos(lat1) * cos(lat2) * sin(dlon / 2)**2\n",
    "        c = 2 * atan2(sqrt(a), sqrt(1 - a))\n",
    "        distance = R * c\n",
    "        # since trip duration is in seconds converting it to miles\n",
    "        miles = 0.621371 * distance\n",
    "        distance_converted.append(round(miles,2))\n",
    "    return distance_converted\n",
    "    \n"
   ]
  },
  {
   "cell_type": "code",
   "execution_count": 12,
   "metadata": {},
   "outputs": [],
   "source": [
    "df['distance'] = pd.Series(distance_converter(df))"
   ]
  },
  {
   "cell_type": "code",
   "execution_count": 13,
   "metadata": {},
   "outputs": [],
   "source": [
    "df['distance'] = df['distance'].astype('float64')"
   ]
  },
  {
   "cell_type": "markdown",
   "metadata": {},
   "source": [
    "# Univariate Analysis"
   ]
  },
  {
   "cell_type": "code",
   "execution_count": 14,
   "metadata": {},
   "outputs": [
    {
     "data": {
      "image/png": "[encoded data removed]",
      "text/plain": [
       "<Figure size 432x288 with 1 Axes>"
      ]
     },
     "metadata": {
      "needs_background": "light"
     },
     "output_type": "display_data"
    }
   ],
   "source": [
    "sb.distplot(df['passenger_count'],kde=False) # Updating Kde = False for better visualization\n",
    "plt.title('Passenger Count Distribution')\n",
    "plt.show()"
   ]
  },
  {
   "cell_type": "markdown",
   "metadata": {},
   "source": [
    "# Summary\n",
    "- Most of the trips has only **1 or 2 passengers** travelling by cab."
   ]
  },
  {
   "cell_type": "code",
   "execution_count": 15,
   "metadata": {},
   "outputs": [
    {
     "data": {
      "image/png": "[encoded data removed]",
      "text/plain": [
       "<Figure size 432x288 with 1 Axes>"
      ]
     },
     "metadata": {
      "needs_background": "light"
     },
     "output_type": "display_data"
    }
   ],
   "source": [
    "sb.kdeplot(df['trip_duration'])\n",
    "plt.title('Trip Duartion(seconds) Distribution')\n",
    "plt.show()"
   ]
  },
  {
   "cell_type": "markdown",
   "metadata": {},
   "source": [
    "# Summary \n",
    "- We can see it is rightskewed data so we can conclude that there are outliers. "
   ]
  },
  {
   "cell_type": "code",
   "execution_count": 16,
   "metadata": {},
   "outputs": [],
   "source": [
    "cm_df = df[['trip_duration']]\n",
    "cm_df = cm_df[cm_df['trip_duration'] < 3*cm_df['trip_duration'].std()]"
   ]
  },
  {
   "cell_type": "code",
   "execution_count": 17,
   "metadata": {},
   "outputs": [
    {
     "data": {
      "image/png": "[encoded data removed]",
      "text/plain": [
       "<Figure size 432x288 with 1 Axes>"
      ]
     },
     "metadata": {
      "needs_background": "light"
     },
     "output_type": "display_data"
    }
   ],
   "source": [
    "sb.kdeplot(cm_df['trip_duration'])\n",
    "plt.title('Trip Distribution after removing outliers')\n",
    "plt.show()"
   ]
  },
  {
   "cell_type": "markdown",
   "metadata": {},
   "source": [
    "- Even after removal of datapoints which fall above the 3rd standard deviation the plot is still right skewed."
   ]
  },
  {
   "cell_type": "code",
   "execution_count": 18,
   "metadata": {},
   "outputs": [
    {
     "data": {
      "image/png": "[encoded data removed]",
      "text/plain": [
       "<Figure size 432x288 with 1 Axes>"
      ]
     },
     "metadata": {
      "needs_background": "light"
     },
     "output_type": "display_data"
    }
   ],
   "source": [
    "sb.distplot(df['pickup_longitude'])\n",
    "plt.title('Pickup Longitude Distribution')\n",
    "plt.show()"
   ]
  },
  {
   "cell_type": "code",
   "execution_count": 19,
   "metadata": {},
   "outputs": [
    {
     "data": {
      "image/png": "[encoded data removed]",
      "text/plain": [
       "<Figure size 432x288 with 1 Axes>"
      ]
     },
     "metadata": {
      "needs_background": "light"
     },
     "output_type": "display_data"
    }
   ],
   "source": [
    "sb.distplot(df['pickup_latitude'])\n",
    "plt.title('Pickup Latitude Distribution')\n",
    "plt.show()"
   ]
  },
  {
   "cell_type": "code",
   "execution_count": 20,
   "metadata": {},
   "outputs": [
    {
     "data": {
      "image/png": "[encoded data removed]",
      "text/plain": [
       "<Figure size 432x288 with 1 Axes>"
      ]
     },
     "metadata": {
      "needs_background": "light"
     },
     "output_type": "display_data"
    }
   ],
   "source": [
    "sb.distplot(df['dropoff_longitude'])\n",
    "plt.title('Dropoff Longitude Distribution')\n",
    "plt.show()"
   ]
  },
  {
   "cell_type": "code",
   "execution_count": 21,
   "metadata": {},
   "outputs": [
    {
     "data": {
      "image/png": "[encoded data removed]",
      "text/plain": [
       "<Figure size 432x288 with 1 Axes>"
      ]
     },
     "metadata": {
      "needs_background": "light"
     },
     "output_type": "display_data"
    }
   ],
   "source": [
    "sb.distplot(df['dropoff_latitude'])\n",
    "plt.title('Dropoff Latitude Distribution')\n",
    "plt.show()"
   ]
  },
  {
   "cell_type": "code",
   "execution_count": 22,
   "metadata": {},
   "outputs": [
    {
     "data": {
      "image/png": "[encoded data removed]",
      "text/plain": [
       "<Figure size 432x288 with 1 Axes>"
      ]
     },
     "metadata": {
      "needs_background": "light"
     },
     "output_type": "display_data"
    }
   ],
   "source": [
    "vendor = df['vendor_id'].value_counts(normalize=True)\n",
    "sb.barplot(vendor,vendor.index,order=vendor.index)\n",
    "plt.title('Number Of Vendors')\n",
    "plt.title(f'number of categories: {df[\"vendor_id\"].nunique()} \\n value counts: {vendor}')\n",
    "plt.show()"
   ]
  },
  {
   "cell_type": "markdown",
   "metadata": {},
   "source": [
    "# Summary \n",
    "- Cabs of vendor2 are availed slightly more than vendor1."
   ]
  },
  {
   "cell_type": "code",
   "execution_count": 23,
   "metadata": {},
   "outputs": [
    {
     "data": {
      "image/png": "[encoded data removed]",
      "text/plain": [
       "<Figure size 432x288 with 1 Axes>"
      ]
     },
     "metadata": {
      "needs_background": "light"
     },
     "output_type": "display_data"
    }
   ],
   "source": [
    "flag = df['store_and_fwd_flag'].value_counts(normalize=True)\n",
    "sb.barplot(flag,flag.index,order = flag.index)\n",
    "plt.title(f'number of categories: {df[\"store_and_fwd_flag\"].nunique()} \\n value counts: {flag}')\n",
    "plt.show()"
   ]
  },
  {
   "cell_type": "markdown",
   "metadata": {},
   "source": [
    "# Summary\n",
    "- 99% of the times the cab was connected to the server but should be analysed based on the trip duration and distance as well. "
   ]
  },
  {
   "cell_type": "markdown",
   "metadata": {},
   "source": [
    "## Extracting day and hours from  the pickup_datetime and dropoff_datetime for further analysis "
   ]
  },
  {
   "cell_type": "code",
   "execution_count": 24,
   "metadata": {},
   "outputs": [],
   "source": [
    "df['pickup_hours'] = df['pickup_datetime'].dt.hour\n",
    "df['dropoff_hours'] = df['dropoff_datetime'].dt.hour\n",
    "df['pickup_day'] = df['pickup_datetime'].dt.day_name()\n",
    "df['dropoff_day'] = df['dropoff_datetime'].dt.day_name()"
   ]
  },
  {
   "cell_type": "code",
   "execution_count": 25,
   "metadata": {},
   "outputs": [],
   "source": [
    "Based_on_Hours = ['pickup_hours','dropoff_hours']\n",
    "Based_on_Days = ['pickup_day','dropoff_day']"
   ]
  },
  {
   "cell_type": "code",
   "execution_count": 26,
   "metadata": {},
   "outputs": [],
   "source": [
    "def UVA_hours(df,var_group):\n",
    "    size = len(var_group)\n",
    "    plt.figure(figsize = (7*size,3),dpi=100)\n",
    "    \n",
    "    for j,i in enumerate(var_group):\n",
    "        \n",
    "        plt.subplot(1,size,j+1)\n",
    "        sb.distplot(df[i],bins=24,kde=False)\n",
    "        plt.xlabel(f'{i}',fontsize=20)\n",
    "        plt.ylabel('frequency')    "
   ]
  },
  {
   "cell_type": "code",
   "execution_count": 27,
   "metadata": {},
   "outputs": [
    {
     "data": {
      "image/png": "[encoded data removed]",
      "text/plain": [
       "<Figure size 1400x300 with 2 Axes>"
      ]
     },
     "metadata": {
      "needs_background": "light"
     },
     "output_type": "display_data"
    }
   ],
   "source": [
    "UVA_hours(df,Based_on_Hours)"
   ]
  },
  {
   "cell_type": "markdown",
   "metadata": {},
   "source": [
    "- We can clearly conclude from the plot that most of the trips are scheduled in evening hours."
   ]
  },
  {
   "cell_type": "code",
   "execution_count": 28,
   "metadata": {},
   "outputs": [],
   "source": [
    "def UVA_days(df,var_group):\n",
    "    size = len(var_group)\n",
    "    plt.figure(figsize = (7*size,3),dpi=100)\n",
    "    \n",
    "    for j,i in enumerate(var_group):\n",
    "        \n",
    "        plt.subplot(1,size,j+1)\n",
    "        sb.countplot(x=i,data=df)\n",
    "        plt.xlabel(f'{i}',fontsize=20)\n",
    "        plt.ylabel('frequency')   "
   ]
  },
  {
   "cell_type": "code",
   "execution_count": 29,
   "metadata": {},
   "outputs": [
    {
     "data": {
      "image/png": "[encoded data removed]",
      "text/plain": [
       "<Figure size 1400x300 with 2 Axes>"
      ]
     },
     "metadata": {
      "needs_background": "light"
     },
     "output_type": "display_data"
    }
   ],
   "source": [
    "UVA_days(df,Based_on_Days)"
   ]
  },
  {
   "cell_type": "markdown",
   "metadata": {},
   "source": [
    "- Most of the trips are on Friday,Saturday and Thursday."
   ]
  },
  {
   "cell_type": "markdown",
   "metadata": {},
   "source": [
    "# Bivariate Analysis"
   ]
  },
  {
   "cell_type": "code",
   "execution_count": 30,
   "metadata": {},
   "outputs": [
    {
     "data": {
      "image/png": "[encoded data removed]",
      "text/plain": [
       "<Figure size 360x360 with 1 Axes>"
      ]
     },
     "metadata": {
      "needs_background": "light"
     },
     "output_type": "display_data"
    }
   ],
   "source": [
    "sb.relplot(x='passenger_count',y='trip_duration',data=df,kind='scatter')\n",
    "plt.title('Relationship between passenger_count and trip_duration')\n",
    "plt.show()"
   ]
  },
  {
   "cell_type": "code",
   "execution_count": 31,
   "metadata": {},
   "outputs": [],
   "source": [
    "# Removing the outlier from the trip_duration variable for better analysis\n",
    "df = df[df.trip_duration!= df.trip_duration.max()]"
   ]
  },
  {
   "cell_type": "markdown",
   "metadata": {},
   "source": [
    "- From the plot we can see there are  some trips without passengers so let's check in our data."
   ]
  },
  {
   "cell_type": "code",
   "execution_count": 32,
   "metadata": {},
   "outputs": [
    {
     "data": {
      "text/html": [
       "<div>\n",
       "<style scoped>\n",
       "    .dataframe tbody tr th:only-of-type {\n",
       "        vertical-align: middle;\n",
       "    }\n",
       "\n",
       "    .dataframe tbody tr th {\n",
       "        vertical-align: top;\n",
       "    }\n",
       "\n",
       "    .dataframe thead th {\n",
       "        text-align: right;\n",
       "    }\n",
       "</style>\n",
       "<table border=\"1\" class=\"dataframe\">\n",
       "  <thead>\n",
       "    <tr style=\"text-align: right;\">\n",
       "      <th></th>\n",
       "      <th>id</th>\n",
       "      <th>vendor_id</th>\n",
       "      <th>pickup_datetime</th>\n",
       "      <th>dropoff_datetime</th>\n",
       "      <th>passenger_count</th>\n",
       "      <th>pickup_longitude</th>\n",
       "      <th>pickup_latitude</th>\n",
       "      <th>dropoff_longitude</th>\n",
       "      <th>dropoff_latitude</th>\n",
       "      <th>store_and_fwd_flag</th>\n",
       "      <th>trip_duration</th>\n",
       "      <th>distance</th>\n",
       "      <th>pickup_hours</th>\n",
       "      <th>dropoff_hours</th>\n",
       "      <th>pickup_day</th>\n",
       "      <th>dropoff_day</th>\n",
       "    </tr>\n",
       "  </thead>\n",
       "  <tbody>\n",
       "    <tr>\n",
       "      <th>3572</th>\n",
       "      <td>id3364866</td>\n",
       "      <td>1</td>\n",
       "      <td>2016-02-13 14:04:20</td>\n",
       "      <td>2016-02-13 14:21:29</td>\n",
       "      <td>0</td>\n",
       "      <td>-73.990479</td>\n",
       "      <td>40.742004</td>\n",
       "      <td>-73.989243</td>\n",
       "      <td>40.763680</td>\n",
       "      <td>N</td>\n",
       "      <td>1029</td>\n",
       "      <td>1.50</td>\n",
       "      <td>14</td>\n",
       "      <td>14</td>\n",
       "      <td>Saturday</td>\n",
       "      <td>Saturday</td>\n",
       "    </tr>\n",
       "    <tr>\n",
       "      <th>23847</th>\n",
       "      <td>id3485118</td>\n",
       "      <td>1</td>\n",
       "      <td>2016-05-11 19:15:57</td>\n",
       "      <td>2016-05-11 19:32:18</td>\n",
       "      <td>0</td>\n",
       "      <td>-73.987572</td>\n",
       "      <td>40.754566</td>\n",
       "      <td>-73.972031</td>\n",
       "      <td>40.762836</td>\n",
       "      <td>N</td>\n",
       "      <td>981</td>\n",
       "      <td>0.99</td>\n",
       "      <td>19</td>\n",
       "      <td>19</td>\n",
       "      <td>Wednesday</td>\n",
       "      <td>Wednesday</td>\n",
       "    </tr>\n",
       "    <tr>\n",
       "      <th>45987</th>\n",
       "      <td>id2571672</td>\n",
       "      <td>1</td>\n",
       "      <td>2016-03-06 05:24:55</td>\n",
       "      <td>2016-03-06 05:25:00</td>\n",
       "      <td>0</td>\n",
       "      <td>-73.979698</td>\n",
       "      <td>40.761196</td>\n",
       "      <td>-73.979698</td>\n",
       "      <td>40.761196</td>\n",
       "      <td>Y</td>\n",
       "      <td>5</td>\n",
       "      <td>0.00</td>\n",
       "      <td>5</td>\n",
       "      <td>5</td>\n",
       "      <td>Sunday</td>\n",
       "      <td>Sunday</td>\n",
       "    </tr>\n",
       "    <tr>\n",
       "      <th>76998</th>\n",
       "      <td>id1253169</td>\n",
       "      <td>1</td>\n",
       "      <td>2016-02-28 01:08:48</td>\n",
       "      <td>2016-02-28 01:09:01</td>\n",
       "      <td>0</td>\n",
       "      <td>-74.035942</td>\n",
       "      <td>40.736488</td>\n",
       "      <td>-74.035942</td>\n",
       "      <td>40.736492</td>\n",
       "      <td>N</td>\n",
       "      <td>13</td>\n",
       "      <td>0.00</td>\n",
       "      <td>1</td>\n",
       "      <td>1</td>\n",
       "      <td>Sunday</td>\n",
       "      <td>Sunday</td>\n",
       "    </tr>\n",
       "    <tr>\n",
       "      <th>101709</th>\n",
       "      <td>id1220914</td>\n",
       "      <td>2</td>\n",
       "      <td>2016-01-17 20:51:55</td>\n",
       "      <td>2016-01-17 20:52:43</td>\n",
       "      <td>0</td>\n",
       "      <td>-73.959999</td>\n",
       "      <td>40.766861</td>\n",
       "      <td>-73.960106</td>\n",
       "      <td>40.766911</td>\n",
       "      <td>N</td>\n",
       "      <td>48</td>\n",
       "      <td>0.01</td>\n",
       "      <td>20</td>\n",
       "      <td>20</td>\n",
       "      <td>Sunday</td>\n",
       "      <td>Sunday</td>\n",
       "    </tr>\n",
       "    <tr>\n",
       "      <th>186050</th>\n",
       "      <td>id3645383</td>\n",
       "      <td>2</td>\n",
       "      <td>2016-01-01 05:01:32</td>\n",
       "      <td>2016-01-01 05:01:36</td>\n",
       "      <td>0</td>\n",
       "      <td>-73.993134</td>\n",
       "      <td>40.757473</td>\n",
       "      <td>-73.993294</td>\n",
       "      <td>40.757538</td>\n",
       "      <td>N</td>\n",
       "      <td>4</td>\n",
       "      <td>0.01</td>\n",
       "      <td>5</td>\n",
       "      <td>5</td>\n",
       "      <td>Friday</td>\n",
       "      <td>Friday</td>\n",
       "    </tr>\n",
       "    <tr>\n",
       "      <th>186913</th>\n",
       "      <td>id3494250</td>\n",
       "      <td>1</td>\n",
       "      <td>2016-04-02 02:32:10</td>\n",
       "      <td>2016-04-02 02:50:51</td>\n",
       "      <td>0</td>\n",
       "      <td>-74.005089</td>\n",
       "      <td>40.729038</td>\n",
       "      <td>-74.032486</td>\n",
       "      <td>40.619579</td>\n",
       "      <td>N</td>\n",
       "      <td>1121</td>\n",
       "      <td>7.70</td>\n",
       "      <td>2</td>\n",
       "      <td>2</td>\n",
       "      <td>Saturday</td>\n",
       "      <td>Saturday</td>\n",
       "    </tr>\n",
       "    <tr>\n",
       "      <th>194926</th>\n",
       "      <td>id1205792</td>\n",
       "      <td>1</td>\n",
       "      <td>2016-03-11 12:33:17</td>\n",
       "      <td>2016-03-11 13:09:48</td>\n",
       "      <td>0</td>\n",
       "      <td>-73.982063</td>\n",
       "      <td>40.763798</td>\n",
       "      <td>-74.188072</td>\n",
       "      <td>40.694042</td>\n",
       "      <td>N</td>\n",
       "      <td>2191</td>\n",
       "      <td>11.82</td>\n",
       "      <td>12</td>\n",
       "      <td>13</td>\n",
       "      <td>Friday</td>\n",
       "      <td>Friday</td>\n",
       "    </tr>\n",
       "    <tr>\n",
       "      <th>231010</th>\n",
       "      <td>id0959777</td>\n",
       "      <td>2</td>\n",
       "      <td>2016-03-01 19:11:26</td>\n",
       "      <td>2016-03-01 19:11:30</td>\n",
       "      <td>0</td>\n",
       "      <td>-74.003777</td>\n",
       "      <td>40.738186</td>\n",
       "      <td>-74.003807</td>\n",
       "      <td>40.738174</td>\n",
       "      <td>N</td>\n",
       "      <td>4</td>\n",
       "      <td>0.00</td>\n",
       "      <td>19</td>\n",
       "      <td>19</td>\n",
       "      <td>Tuesday</td>\n",
       "      <td>Tuesday</td>\n",
       "    </tr>\n",
       "    <tr>\n",
       "      <th>247692</th>\n",
       "      <td>id2891366</td>\n",
       "      <td>1</td>\n",
       "      <td>2016-02-18 21:26:15</td>\n",
       "      <td>2016-02-18 21:28:00</td>\n",
       "      <td>0</td>\n",
       "      <td>-73.983543</td>\n",
       "      <td>40.716404</td>\n",
       "      <td>-73.983543</td>\n",
       "      <td>40.716404</td>\n",
       "      <td>N</td>\n",
       "      <td>105</td>\n",
       "      <td>0.00</td>\n",
       "      <td>21</td>\n",
       "      <td>21</td>\n",
       "      <td>Thursday</td>\n",
       "      <td>Thursday</td>\n",
       "    </tr>\n",
       "    <tr>\n",
       "      <th>272114</th>\n",
       "      <td>id0878599</td>\n",
       "      <td>1</td>\n",
       "      <td>2016-01-25 08:46:58</td>\n",
       "      <td>2016-01-25 09:41:01</td>\n",
       "      <td>0</td>\n",
       "      <td>-73.928078</td>\n",
       "      <td>40.736412</td>\n",
       "      <td>-73.985519</td>\n",
       "      <td>40.758972</td>\n",
       "      <td>N</td>\n",
       "      <td>3243</td>\n",
       "      <td>3.39</td>\n",
       "      <td>8</td>\n",
       "      <td>9</td>\n",
       "      <td>Monday</td>\n",
       "      <td>Monday</td>\n",
       "    </tr>\n",
       "    <tr>\n",
       "      <th>315015</th>\n",
       "      <td>id1846091</td>\n",
       "      <td>2</td>\n",
       "      <td>2016-01-16 00:50:18</td>\n",
       "      <td>2016-01-16 00:51:36</td>\n",
       "      <td>0</td>\n",
       "      <td>-73.919167</td>\n",
       "      <td>40.686878</td>\n",
       "      <td>-73.919151</td>\n",
       "      <td>40.686874</td>\n",
       "      <td>N</td>\n",
       "      <td>78</td>\n",
       "      <td>0.00</td>\n",
       "      <td>0</td>\n",
       "      <td>0</td>\n",
       "      <td>Saturday</td>\n",
       "      <td>Saturday</td>\n",
       "    </tr>\n",
       "    <tr>\n",
       "      <th>319175</th>\n",
       "      <td>id2247129</td>\n",
       "      <td>2</td>\n",
       "      <td>2016-01-13 11:50:12</td>\n",
       "      <td>2016-01-13 12:16:08</td>\n",
       "      <td>0</td>\n",
       "      <td>-73.965027</td>\n",
       "      <td>40.775269</td>\n",
       "      <td>-73.973450</td>\n",
       "      <td>40.840618</td>\n",
       "      <td>N</td>\n",
       "      <td>1556</td>\n",
       "      <td>4.54</td>\n",
       "      <td>11</td>\n",
       "      <td>12</td>\n",
       "      <td>Wednesday</td>\n",
       "      <td>Wednesday</td>\n",
       "    </tr>\n",
       "    <tr>\n",
       "      <th>329274</th>\n",
       "      <td>id3762593</td>\n",
       "      <td>1</td>\n",
       "      <td>2016-01-04 12:24:17</td>\n",
       "      <td>2016-01-04 13:01:48</td>\n",
       "      <td>0</td>\n",
       "      <td>-73.815224</td>\n",
       "      <td>40.700081</td>\n",
       "      <td>-73.950699</td>\n",
       "      <td>40.755222</td>\n",
       "      <td>N</td>\n",
       "      <td>2251</td>\n",
       "      <td>8.05</td>\n",
       "      <td>12</td>\n",
       "      <td>13</td>\n",
       "      <td>Monday</td>\n",
       "      <td>Monday</td>\n",
       "    </tr>\n",
       "    <tr>\n",
       "      <th>333621</th>\n",
       "      <td>id2029944</td>\n",
       "      <td>1</td>\n",
       "      <td>2016-03-11 09:38:54</td>\n",
       "      <td>2016-03-11 09:38:57</td>\n",
       "      <td>0</td>\n",
       "      <td>-73.790398</td>\n",
       "      <td>40.655457</td>\n",
       "      <td>-73.790398</td>\n",
       "      <td>40.655457</td>\n",
       "      <td>N</td>\n",
       "      <td>3</td>\n",
       "      <td>0.00</td>\n",
       "      <td>9</td>\n",
       "      <td>9</td>\n",
       "      <td>Friday</td>\n",
       "      <td>Friday</td>\n",
       "    </tr>\n",
       "    <tr>\n",
       "      <th>344350</th>\n",
       "      <td>id1376024</td>\n",
       "      <td>1</td>\n",
       "      <td>2016-04-01 16:10:32</td>\n",
       "      <td>2016-04-01 16:11:01</td>\n",
       "      <td>0</td>\n",
       "      <td>-73.951973</td>\n",
       "      <td>40.733479</td>\n",
       "      <td>-73.951996</td>\n",
       "      <td>40.733471</td>\n",
       "      <td>N</td>\n",
       "      <td>29</td>\n",
       "      <td>0.00</td>\n",
       "      <td>16</td>\n",
       "      <td>16</td>\n",
       "      <td>Friday</td>\n",
       "      <td>Friday</td>\n",
       "    </tr>\n",
       "    <tr>\n",
       "      <th>370723</th>\n",
       "      <td>id3347660</td>\n",
       "      <td>2</td>\n",
       "      <td>2016-05-29 01:26:30</td>\n",
       "      <td>2016-05-29 01:26:49</td>\n",
       "      <td>0</td>\n",
       "      <td>-73.932732</td>\n",
       "      <td>40.856438</td>\n",
       "      <td>-73.932762</td>\n",
       "      <td>40.856438</td>\n",
       "      <td>N</td>\n",
       "      <td>19</td>\n",
       "      <td>0.00</td>\n",
       "      <td>1</td>\n",
       "      <td>1</td>\n",
       "      <td>Sunday</td>\n",
       "      <td>Sunday</td>\n",
       "    </tr>\n",
       "    <tr>\n",
       "      <th>377817</th>\n",
       "      <td>id3368191</td>\n",
       "      <td>1</td>\n",
       "      <td>2016-05-08 23:38:09</td>\n",
       "      <td>2016-05-08 23:38:21</td>\n",
       "      <td>0</td>\n",
       "      <td>-73.934937</td>\n",
       "      <td>40.740841</td>\n",
       "      <td>-73.934929</td>\n",
       "      <td>40.740837</td>\n",
       "      <td>N</td>\n",
       "      <td>12</td>\n",
       "      <td>0.00</td>\n",
       "      <td>23</td>\n",
       "      <td>23</td>\n",
       "      <td>Sunday</td>\n",
       "      <td>Sunday</td>\n",
       "    </tr>\n",
       "    <tr>\n",
       "      <th>378238</th>\n",
       "      <td>id1593144</td>\n",
       "      <td>1</td>\n",
       "      <td>2016-01-08 21:55:27</td>\n",
       "      <td>2016-01-08 22:01:52</td>\n",
       "      <td>0</td>\n",
       "      <td>-73.980957</td>\n",
       "      <td>40.742142</td>\n",
       "      <td>-73.986122</td>\n",
       "      <td>40.729488</td>\n",
       "      <td>N</td>\n",
       "      <td>385</td>\n",
       "      <td>0.92</td>\n",
       "      <td>21</td>\n",
       "      <td>22</td>\n",
       "      <td>Friday</td>\n",
       "      <td>Friday</td>\n",
       "    </tr>\n",
       "    <tr>\n",
       "      <th>407850</th>\n",
       "      <td>id3267095</td>\n",
       "      <td>2</td>\n",
       "      <td>2016-02-13 01:33:02</td>\n",
       "      <td>2016-02-13 01:33:06</td>\n",
       "      <td>0</td>\n",
       "      <td>-73.979118</td>\n",
       "      <td>40.760181</td>\n",
       "      <td>-73.979111</td>\n",
       "      <td>40.760159</td>\n",
       "      <td>N</td>\n",
       "      <td>4</td>\n",
       "      <td>0.00</td>\n",
       "      <td>1</td>\n",
       "      <td>1</td>\n",
       "      <td>Saturday</td>\n",
       "      <td>Saturday</td>\n",
       "    </tr>\n",
       "    <tr>\n",
       "      <th>423670</th>\n",
       "      <td>id0662963</td>\n",
       "      <td>2</td>\n",
       "      <td>2016-02-13 04:41:13</td>\n",
       "      <td>2016-02-13 04:41:22</td>\n",
       "      <td>0</td>\n",
       "      <td>-73.945633</td>\n",
       "      <td>40.803673</td>\n",
       "      <td>-73.945625</td>\n",
       "      <td>40.803661</td>\n",
       "      <td>N</td>\n",
       "      <td>9</td>\n",
       "      <td>0.00</td>\n",
       "      <td>4</td>\n",
       "      <td>4</td>\n",
       "      <td>Saturday</td>\n",
       "      <td>Saturday</td>\n",
       "    </tr>\n",
       "    <tr>\n",
       "      <th>427067</th>\n",
       "      <td>id1656232</td>\n",
       "      <td>1</td>\n",
       "      <td>2016-04-21 06:04:56</td>\n",
       "      <td>2016-04-21 06:05:18</td>\n",
       "      <td>0</td>\n",
       "      <td>-73.978149</td>\n",
       "      <td>40.750183</td>\n",
       "      <td>-73.978104</td>\n",
       "      <td>40.750477</td>\n",
       "      <td>N</td>\n",
       "      <td>22</td>\n",
       "      <td>0.02</td>\n",
       "      <td>6</td>\n",
       "      <td>6</td>\n",
       "      <td>Thursday</td>\n",
       "      <td>Thursday</td>\n",
       "    </tr>\n",
       "    <tr>\n",
       "      <th>476153</th>\n",
       "      <td>id0796773</td>\n",
       "      <td>1</td>\n",
       "      <td>2016-02-07 17:23:48</td>\n",
       "      <td>2016-02-07 17:23:57</td>\n",
       "      <td>0</td>\n",
       "      <td>-73.954941</td>\n",
       "      <td>40.687866</td>\n",
       "      <td>-73.954742</td>\n",
       "      <td>40.687862</td>\n",
       "      <td>N</td>\n",
       "      <td>9</td>\n",
       "      <td>0.01</td>\n",
       "      <td>17</td>\n",
       "      <td>17</td>\n",
       "      <td>Sunday</td>\n",
       "      <td>Sunday</td>\n",
       "    </tr>\n",
       "    <tr>\n",
       "      <th>501596</th>\n",
       "      <td>id3066152</td>\n",
       "      <td>1</td>\n",
       "      <td>2016-02-01 00:27:13</td>\n",
       "      <td>2016-02-01 00:27:58</td>\n",
       "      <td>0</td>\n",
       "      <td>-74.014488</td>\n",
       "      <td>40.708229</td>\n",
       "      <td>-74.014488</td>\n",
       "      <td>40.708229</td>\n",
       "      <td>N</td>\n",
       "      <td>45</td>\n",
       "      <td>0.00</td>\n",
       "      <td>0</td>\n",
       "      <td>0</td>\n",
       "      <td>Monday</td>\n",
       "      <td>Monday</td>\n",
       "    </tr>\n",
       "    <tr>\n",
       "      <th>506457</th>\n",
       "      <td>id2613392</td>\n",
       "      <td>2</td>\n",
       "      <td>2016-03-31 22:25:35</td>\n",
       "      <td>2016-03-31 22:25:42</td>\n",
       "      <td>0</td>\n",
       "      <td>-74.010307</td>\n",
       "      <td>40.718697</td>\n",
       "      <td>-74.010330</td>\n",
       "      <td>40.718651</td>\n",
       "      <td>N</td>\n",
       "      <td>7</td>\n",
       "      <td>0.00</td>\n",
       "      <td>22</td>\n",
       "      <td>22</td>\n",
       "      <td>Thursday</td>\n",
       "      <td>Thursday</td>\n",
       "    </tr>\n",
       "    <tr>\n",
       "      <th>512767</th>\n",
       "      <td>id1794493</td>\n",
       "      <td>2</td>\n",
       "      <td>2016-03-20 01:25:42</td>\n",
       "      <td>2016-03-20 01:26:04</td>\n",
       "      <td>0</td>\n",
       "      <td>-73.995094</td>\n",
       "      <td>40.760296</td>\n",
       "      <td>-73.995064</td>\n",
       "      <td>40.760284</td>\n",
       "      <td>N</td>\n",
       "      <td>22</td>\n",
       "      <td>0.00</td>\n",
       "      <td>1</td>\n",
       "      <td>1</td>\n",
       "      <td>Sunday</td>\n",
       "      <td>Sunday</td>\n",
       "    </tr>\n",
       "    <tr>\n",
       "      <th>533760</th>\n",
       "      <td>id0948644</td>\n",
       "      <td>2</td>\n",
       "      <td>2016-02-22 00:40:25</td>\n",
       "      <td>2016-02-22 00:40:26</td>\n",
       "      <td>0</td>\n",
       "      <td>-73.987595</td>\n",
       "      <td>40.719997</td>\n",
       "      <td>-73.987595</td>\n",
       "      <td>40.720005</td>\n",
       "      <td>N</td>\n",
       "      <td>1</td>\n",
       "      <td>0.00</td>\n",
       "      <td>0</td>\n",
       "      <td>0</td>\n",
       "      <td>Monday</td>\n",
       "      <td>Monday</td>\n",
       "    </tr>\n",
       "    <tr>\n",
       "      <th>540189</th>\n",
       "      <td>id3493269</td>\n",
       "      <td>2</td>\n",
       "      <td>2016-01-14 19:09:41</td>\n",
       "      <td>2016-01-14 19:09:48</td>\n",
       "      <td>0</td>\n",
       "      <td>-73.904709</td>\n",
       "      <td>40.758099</td>\n",
       "      <td>-73.904716</td>\n",
       "      <td>40.758148</td>\n",
       "      <td>N</td>\n",
       "      <td>7</td>\n",
       "      <td>0.00</td>\n",
       "      <td>19</td>\n",
       "      <td>19</td>\n",
       "      <td>Thursday</td>\n",
       "      <td>Thursday</td>\n",
       "    </tr>\n",
       "    <tr>\n",
       "      <th>541539</th>\n",
       "      <td>id1610720</td>\n",
       "      <td>2</td>\n",
       "      <td>2016-03-13 14:08:20</td>\n",
       "      <td>2016-03-13 14:08:28</td>\n",
       "      <td>0</td>\n",
       "      <td>-73.922081</td>\n",
       "      <td>40.636040</td>\n",
       "      <td>-73.922081</td>\n",
       "      <td>40.636040</td>\n",
       "      <td>N</td>\n",
       "      <td>8</td>\n",
       "      <td>0.00</td>\n",
       "      <td>14</td>\n",
       "      <td>14</td>\n",
       "      <td>Sunday</td>\n",
       "      <td>Sunday</td>\n",
       "    </tr>\n",
       "    <tr>\n",
       "      <th>568782</th>\n",
       "      <td>id3533680</td>\n",
       "      <td>1</td>\n",
       "      <td>2016-01-10 04:17:21</td>\n",
       "      <td>2016-01-10 04:17:24</td>\n",
       "      <td>0</td>\n",
       "      <td>-73.993195</td>\n",
       "      <td>40.598701</td>\n",
       "      <td>-73.993195</td>\n",
       "      <td>40.598701</td>\n",
       "      <td>N</td>\n",
       "      <td>3</td>\n",
       "      <td>0.00</td>\n",
       "      <td>4</td>\n",
       "      <td>4</td>\n",
       "      <td>Sunday</td>\n",
       "      <td>Sunday</td>\n",
       "    </tr>\n",
       "    <tr>\n",
       "      <th>592303</th>\n",
       "      <td>id2154895</td>\n",
       "      <td>1</td>\n",
       "      <td>2016-05-23 23:37:37</td>\n",
       "      <td>2016-05-23 23:37:45</td>\n",
       "      <td>0</td>\n",
       "      <td>-73.861633</td>\n",
       "      <td>40.705029</td>\n",
       "      <td>-73.861633</td>\n",
       "      <td>40.705029</td>\n",
       "      <td>N</td>\n",
       "      <td>8</td>\n",
       "      <td>0.00</td>\n",
       "      <td>23</td>\n",
       "      <td>23</td>\n",
       "      <td>Monday</td>\n",
       "      <td>Monday</td>\n",
       "    </tr>\n",
       "    <tr>\n",
       "      <th>668368</th>\n",
       "      <td>id0271506</td>\n",
       "      <td>2</td>\n",
       "      <td>2016-05-22 00:23:15</td>\n",
       "      <td>2016-05-22 00:23:56</td>\n",
       "      <td>0</td>\n",
       "      <td>-73.956718</td>\n",
       "      <td>40.777142</td>\n",
       "      <td>-73.956764</td>\n",
       "      <td>40.776958</td>\n",
       "      <td>N</td>\n",
       "      <td>41</td>\n",
       "      <td>0.01</td>\n",
       "      <td>0</td>\n",
       "      <td>0</td>\n",
       "      <td>Sunday</td>\n",
       "      <td>Sunday</td>\n",
       "    </tr>\n",
       "    <tr>\n",
       "      <th>711013</th>\n",
       "      <td>id2957383</td>\n",
       "      <td>1</td>\n",
       "      <td>2016-05-20 03:22:01</td>\n",
       "      <td>2016-05-20 03:23:09</td>\n",
       "      <td>0</td>\n",
       "      <td>-74.005341</td>\n",
       "      <td>40.871922</td>\n",
       "      <td>-74.006096</td>\n",
       "      <td>40.872318</td>\n",
       "      <td>Y</td>\n",
       "      <td>68</td>\n",
       "      <td>0.05</td>\n",
       "      <td>3</td>\n",
       "      <td>3</td>\n",
       "      <td>Friday</td>\n",
       "      <td>Friday</td>\n",
       "    </tr>\n",
       "  </tbody>\n",
       "</table>\n",
       "</div>"
      ],
      "text/plain": [
       "               id vendor_id     pickup_datetime    dropoff_datetime  \\\n",
       "3572    id3364866         1 2016-02-13 14:04:20 2016-02-13 14:21:29   \n",
       "23847   id3485118         1 2016-05-11 19:15:57 2016-05-11 19:32:18   \n",
       "45987   id2571672         1 2016-03-06 05:24:55 2016-03-06 05:25:00   \n",
       "76998   id1253169         1 2016-02-28 01:08:48 2016-02-28 01:09:01   \n",
       "101709  id1220914         2 2016-01-17 20:51:55 2016-01-17 20:52:43   \n",
       "186050  id3645383         2 2016-01-01 05:01:32 2016-01-01 05:01:36   \n",
       "186913  id3494250         1 2016-04-02 02:32:10 2016-04-02 02:50:51   \n",
       "194926  id1205792         1 2016-03-11 12:33:17 2016-03-11 13:09:48   \n",
       "231010  id0959777         2 2016-03-01 19:11:26 2016-03-01 19:11:30   \n",
       "247692  id2891366         1 2016-02-18 21:26:15 2016-02-18 21:28:00   \n",
       "272114  id0878599         1 2016-01-25 08:46:58 2016-01-25 09:41:01   \n",
       "315015  id1846091         2 2016-01-16 00:50:18 2016-01-16 00:51:36   \n",
       "319175  id2247129         2 2016-01-13 11:50:12 2016-01-13 12:16:08   \n",
       "329274  id3762593         1 2016-01-04 12:24:17 2016-01-04 13:01:48   \n",
       "333621  id2029944         1 2016-03-11 09:38:54 2016-03-11 09:38:57   \n",
       "344350  id1376024         1 2016-04-01 16:10:32 2016-04-01 16:11:01   \n",
       "370723  id3347660         2 2016-05-29 01:26:30 2016-05-29 01:26:49   \n",
       "377817  id3368191         1 2016-05-08 23:38:09 2016-05-08 23:38:21   \n",
       "378238  id1593144         1 2016-01-08 21:55:27 2016-01-08 22:01:52   \n",
       "407850  id3267095         2 2016-02-13 01:33:02 2016-02-13 01:33:06   \n",
       "423670  id0662963         2 2016-02-13 04:41:13 2016-02-13 04:41:22   \n",
       "427067  id1656232         1 2016-04-21 06:04:56 2016-04-21 06:05:18   \n",
       "476153  id0796773         1 2016-02-07 17:23:48 2016-02-07 17:23:57   \n",
       "501596  id3066152         1 2016-02-01 00:27:13 2016-02-01 00:27:58   \n",
       "506457  id2613392         2 2016-03-31 22:25:35 2016-03-31 22:25:42   \n",
       "512767  id1794493         2 2016-03-20 01:25:42 2016-03-20 01:26:04   \n",
       "533760  id0948644         2 2016-02-22 00:40:25 2016-02-22 00:40:26   \n",
       "540189  id3493269         2 2016-01-14 19:09:41 2016-01-14 19:09:48   \n",
       "541539  id1610720         2 2016-03-13 14:08:20 2016-03-13 14:08:28   \n",
       "568782  id3533680         1 2016-01-10 04:17:21 2016-01-10 04:17:24   \n",
       "592303  id2154895         1 2016-05-23 23:37:37 2016-05-23 23:37:45   \n",
       "668368  id0271506         2 2016-05-22 00:23:15 2016-05-22 00:23:56   \n",
       "711013  id2957383         1 2016-05-20 03:22:01 2016-05-20 03:23:09   \n",
       "\n",
       "        passenger_count  pickup_longitude  pickup_latitude  dropoff_longitude  \\\n",
       "3572                  0        -73.990479        40.742004         -73.989243   \n",
       "23847                 0        -73.987572        40.754566         -73.972031   \n",
       "45987                 0        -73.979698        40.761196         -73.979698   \n",
       "76998                 0        -74.035942        40.736488         -74.035942   \n",
       "101709                0        -73.959999        40.766861         -73.960106   \n",
       "186050                0        -73.993134        40.757473         -73.993294   \n",
       "186913                0        -74.005089        40.729038         -74.032486   \n",
       "194926                0        -73.982063        40.763798         -74.188072   \n",
       "231010                0        -74.003777        40.738186         -74.003807   \n",
       "247692                0        -73.983543        40.716404         -73.983543   \n",
       "272114                0        -73.928078        40.736412         -73.985519   \n",
       "315015                0        -73.919167        40.686878         -73.919151   \n",
       "319175                0        -73.965027        40.775269         -73.973450   \n",
       "329274                0        -73.815224        40.700081         -73.950699   \n",
       "333621                0        -73.790398        40.655457         -73.790398   \n",
       "344350                0        -73.951973        40.733479         -73.951996   \n",
       "370723                0        -73.932732        40.856438         -73.932762   \n",
       "377817                0        -73.934937        40.740841         -73.934929   \n",
       "378238                0        -73.980957        40.742142         -73.986122   \n",
       "407850                0        -73.979118        40.760181         -73.979111   \n",
       "423670                0        -73.945633        40.803673         -73.945625   \n",
       "427067                0        -73.978149        40.750183         -73.978104   \n",
       "476153                0        -73.954941        40.687866         -73.954742   \n",
       "501596                0        -74.014488        40.708229         -74.014488   \n",
       "506457                0        -74.010307        40.718697         -74.010330   \n",
       "512767                0        -73.995094        40.760296         -73.995064   \n",
       "533760                0        -73.987595        40.719997         -73.987595   \n",
       "540189                0        -73.904709        40.758099         -73.904716   \n",
       "541539                0        -73.922081        40.636040         -73.922081   \n",
       "568782                0        -73.993195        40.598701         -73.993195   \n",
       "592303                0        -73.861633        40.705029         -73.861633   \n",
       "668368                0        -73.956718        40.777142         -73.956764   \n",
       "711013                0        -74.005341        40.871922         -74.006096   \n",
       "\n",
       "        dropoff_latitude store_and_fwd_flag  trip_duration  distance  \\\n",
       "3572           40.763680                  N           1029      1.50   \n",
       "23847          40.762836                  N            981      0.99   \n",
       "45987          40.761196                  Y              5      0.00   \n",
       "76998          40.736492                  N             13      0.00   \n",
       "101709         40.766911                  N             48      0.01   \n",
       "186050         40.757538                  N              4      0.01   \n",
       "186913         40.619579                  N           1121      7.70   \n",
       "194926         40.694042                  N           2191     11.82   \n",
       "231010         40.738174                  N              4      0.00   \n",
       "247692         40.716404                  N            105      0.00   \n",
       "272114         40.758972                  N           3243      3.39   \n",
       "315015         40.686874                  N             78      0.00   \n",
       "319175         40.840618                  N           1556      4.54   \n",
       "329274         40.755222                  N           2251      8.05   \n",
       "333621         40.655457                  N              3      0.00   \n",
       "344350         40.733471                  N             29      0.00   \n",
       "370723         40.856438                  N             19      0.00   \n",
       "377817         40.740837                  N             12      0.00   \n",
       "378238         40.729488                  N            385      0.92   \n",
       "407850         40.760159                  N              4      0.00   \n",
       "423670         40.803661                  N              9      0.00   \n",
       "427067         40.750477                  N             22      0.02   \n",
       "476153         40.687862                  N              9      0.01   \n",
       "501596         40.708229                  N             45      0.00   \n",
       "506457         40.718651                  N              7      0.00   \n",
       "512767         40.760284                  N             22      0.00   \n",
       "533760         40.720005                  N              1      0.00   \n",
       "540189         40.758148                  N              7      0.00   \n",
       "541539         40.636040                  N              8      0.00   \n",
       "568782         40.598701                  N              3      0.00   \n",
       "592303         40.705029                  N              8      0.00   \n",
       "668368         40.776958                  N             41      0.01   \n",
       "711013         40.872318                  Y             68      0.05   \n",
       "\n",
       "        pickup_hours  dropoff_hours pickup_day dropoff_day  \n",
       "3572              14             14   Saturday    Saturday  \n",
       "23847             19             19  Wednesday   Wednesday  \n",
       "45987              5              5     Sunday      Sunday  \n",
       "76998              1              1     Sunday      Sunday  \n",
       "101709            20             20     Sunday      Sunday  \n",
       "186050             5              5     Friday      Friday  \n",
       "186913             2              2   Saturday    Saturday  \n",
       "194926            12             13     Friday      Friday  \n",
       "231010            19             19    Tuesday     Tuesday  \n",
       "247692            21             21   Thursday    Thursday  \n",
       "272114             8              9     Monday      Monday  \n",
       "315015             0              0   Saturday    Saturday  \n",
       "319175            11             12  Wednesday   Wednesday  \n",
       "329274            12             13     Monday      Monday  \n",
       "333621             9              9     Friday      Friday  \n",
       "344350            16             16     Friday      Friday  \n",
       "370723             1              1     Sunday      Sunday  \n",
       "377817            23             23     Sunday      Sunday  \n",
       "378238            21             22     Friday      Friday  \n",
       "407850             1              1   Saturday    Saturday  \n",
       "423670             4              4   Saturday    Saturday  \n",
       "427067             6              6   Thursday    Thursday  \n",
       "476153            17             17     Sunday      Sunday  \n",
       "501596             0              0     Monday      Monday  \n",
       "506457            22             22   Thursday    Thursday  \n",
       "512767             1              1     Sunday      Sunday  \n",
       "533760             0              0     Monday      Monday  \n",
       "540189            19             19   Thursday    Thursday  \n",
       "541539            14             14     Sunday      Sunday  \n",
       "568782             4              4     Sunday      Sunday  \n",
       "592303            23             23     Monday      Monday  \n",
       "668368             0              0     Sunday      Sunday  \n",
       "711013             3              3     Friday      Friday  "
      ]
     },
     "execution_count": 32,
     "metadata": {},
     "output_type": "execute_result"
    }
   ],
   "source": [
    "df[df['passenger_count'] < 1]"
   ]
  },
  {
   "cell_type": "markdown",
   "metadata": {},
   "source": [
    "- It's Strange to see that some trips exist without any passengers. So removing those records for better analysis."
   ]
  },
  {
   "cell_type": "code",
   "execution_count": 33,
   "metadata": {},
   "outputs": [],
   "source": [
    "df = df[df['passenger_count'] >= 1]"
   ]
  },
  {
   "cell_type": "code",
   "execution_count": 34,
   "metadata": {},
   "outputs": [
    {
     "data": {
      "image/png": "[encoded data removed]",
      "text/plain": [
       "<Figure size 360x360 with 1 Axes>"
      ]
     },
     "metadata": {
      "needs_background": "light"
     },
     "output_type": "display_data"
    }
   ],
   "source": [
    "sb.relplot(x='passenger_count',y='trip_duration',data=df,kind='scatter')\n",
    "plt.title('Relationship between passenger_count and trip_duration')\n",
    "plt.show()"
   ]
  },
  {
   "cell_type": "markdown",
   "metadata": {},
   "source": [
    "- From the plot it's clear that there exists no relationship between passenger_count and trip_duration.Trip duration is more for  passenger count 1 and passenger_count greater than 6 i.e., even if the passenger count is high there are no records of long duration trips. "
   ]
  },
  {
   "cell_type": "code",
   "execution_count": 35,
   "metadata": {},
   "outputs": [
    {
     "data": {
      "text/plain": [
       "<seaborn.axisgrid.FacetGrid at 0x18e800dcaf0>"
      ]
     },
     "execution_count": 35,
     "metadata": {},
     "output_type": "execute_result"
    },
    {
     "data": {
      "image/png": "[encoded data removed]",
      "text/plain": [
       "<Figure size 360x360 with 1 Axes>"
      ]
     },
     "metadata": {
      "needs_background": "light"
     },
     "output_type": "display_data"
    }
   ],
   "source": [
    "sb.catplot(x='store_and_fwd_flag',y='trip_duration',kind='strip',data=df)"
   ]
  },
  {
   "cell_type": "markdown",
   "metadata": {},
   "source": [
    "-  so from the plot we can conclude Only short distances had connection issues with the server"
   ]
  },
  {
   "cell_type": "code",
   "execution_count": 36,
   "metadata": {},
   "outputs": [
    {
     "data": {
      "text/plain": [
       "<seaborn.axisgrid.FacetGrid at 0x18e837551f0>"
      ]
     },
     "execution_count": 36,
     "metadata": {},
     "output_type": "execute_result"
    },
    {
     "data": {
      "image/png": "[encoded data removed]",
      "text/plain": [
       "<Figure size 360x360 with 1 Axes>"
      ]
     },
     "metadata": {
      "needs_background": "light"
     },
     "output_type": "display_data"
    }
   ],
   "source": [
    "sb.catplot(x='vendor_id',y='trip_duration',kind='strip',data=df)"
   ]
  },
  {
   "cell_type": "markdown",
   "metadata": {},
   "source": [
    "- Vendor 1 provides cabs  only for short distance trips and Vendor 2 provides cab for all kind of trips."
   ]
  },
  {
   "cell_type": "code",
   "execution_count": 37,
   "metadata": {},
   "outputs": [
    {
     "data": {
      "text/plain": [
       "<seaborn.axisgrid.FacetGrid at 0x18e831a9640>"
      ]
     },
     "execution_count": 37,
     "metadata": {},
     "output_type": "execute_result"
    },
    {
     "data": {
      "image/png": "[encoded data removed]",
      "text/plain": [
       "<Figure size 360x360 with 1 Axes>"
      ]
     },
     "metadata": {
      "needs_background": "light"
     },
     "output_type": "display_data"
    }
   ],
   "source": [
    "sb.catplot(x='pickup_hours',y='trip_duration',data=df,kind ='bar')"
   ]
  },
  {
   "cell_type": "code",
   "execution_count": 38,
   "metadata": {},
   "outputs": [
    {
     "data": {
      "text/plain": [
       "<seaborn.axisgrid.FacetGrid at 0x18e83300550>"
      ]
     },
     "execution_count": 38,
     "metadata": {},
     "output_type": "execute_result"
    },
    {
     "data": {
      "image/png": "[encoded data removed]",
      "text/plain": [
       "<Figure size 360x360 with 1 Axes>"
      ]
     },
     "metadata": {
      "needs_background": "light"
     },
     "output_type": "display_data"
    }
   ],
   "source": [
    "sb.catplot(x='dropoff_hours',y='trip_duration',data=df,kind ='bar')"
   ]
  },
  {
   "cell_type": "markdown",
   "metadata": {},
   "source": [
    "- The trips that are taken at Zero hour and 14-17 hours have more duration when compared to other hours."
   ]
  },
  {
   "cell_type": "code",
   "execution_count": 39,
   "metadata": {},
   "outputs": [
    {
     "data": {
      "text/plain": [
       "<seaborn.axisgrid.FacetGrid at 0x18ee6640c40>"
      ]
     },
     "execution_count": 39,
     "metadata": {},
     "output_type": "execute_result"
    },
    {
     "data": {
      "image/png": "[encoded data removed]",
      "text/plain": [
       "<Figure size 360x360 with 1 Axes>"
      ]
     },
     "metadata": {
      "needs_background": "light"
     },
     "output_type": "display_data"
    }
   ],
   "source": [
    "sb.relplot('distance','trip_duration',data=df)"
   ]
  },
  {
   "cell_type": "markdown",
   "metadata": {},
   "source": [
    "- Trip duration is more or less evenly distributed only for trips < 100 miles."
   ]
  },
  {
   "cell_type": "code",
   "execution_count": 40,
   "metadata": {},
   "outputs": [
    {
     "data": {
      "text/plain": [
       "<seaborn.axisgrid.FacetGrid at 0x18e8292df70>"
      ]
     },
     "execution_count": 40,
     "metadata": {},
     "output_type": "execute_result"
    },
    {
     "data": {
      "image/png": "[encoded data removed]",
      "text/plain": [
       "<Figure size 360x360 with 1 Axes>"
      ]
     },
     "metadata": {
      "needs_background": "light"
     },
     "output_type": "display_data"
    }
   ],
   "source": [
    "g = sb.catplot(x='pickup_day',y='trip_duration',data=df,kind ='bar',orient='vertical')\n",
    "g.set_xticklabels(rotation=90)"
   ]
  },
  {
   "cell_type": "code",
   "execution_count": 41,
   "metadata": {},
   "outputs": [
    {
     "data": {
      "text/plain": [
       "<seaborn.axisgrid.FacetGrid at 0x18e8321bbe0>"
      ]
     },
     "execution_count": 41,
     "metadata": {},
     "output_type": "execute_result"
    },
    {
     "data": {
      "image/png": "[encoded data removed]",
      "text/plain": [
       "<Figure size 360x360 with 1 Axes>"
      ]
     },
     "metadata": {
      "needs_background": "light"
     },
     "output_type": "display_data"
    }
   ],
   "source": [
    "g = sb.catplot(x='dropoff_day',y='trip_duration',data=df,kind ='bar',orient='vertical')\n",
    "g.set_xticklabels(rotation=90)"
   ]
  },
  {
   "cell_type": "markdown",
   "metadata": {},
   "source": [
    "- Thus the highest avg time taken to complete a trip is on Wednesday and Thursday while Monday,Tuesday,Saturday and Sunday takes the least time."
   ]
  },
  {
   "cell_type": "code",
   "execution_count": null,
   "metadata": {},
   "outputs": [],
   "source": []
  }
 ],
 "metadata": {
  "kernelspec": {
   "display_name": "Python 3",
   "language": "python",
   "name": "python3"
  },
  "language_info": {
   "codemirror_mode": {
    "name": "ipython",
    "version": 3
   },
   "file_extension": ".py",
   "mimetype": "text/x-python",
   "name": "python",
   "nbconvert_exporter": "python",
   "pygments_lexer": "ipython3",
   "version": "3.8.3"
  }
 },
 "nbformat": 4,
 "nbformat_minor": 4
}
